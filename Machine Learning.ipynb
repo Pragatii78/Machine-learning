{
 "cells": [
  {
   "cell_type": "code",
   "execution_count": 1,
   "id": "e815ca31",
   "metadata": {},
   "outputs": [],
   "source": [
    "import numpy as np\n",
    "from matplotlib import pyplot as plt\n",
    "import pandas as pd\n",
    "from sklearn import linear_model\n"
   ]
  },
  {
   "cell_type": "code",
   "execution_count": 2,
   "id": "321afc29",
   "metadata": {},
   "outputs": [
    {
     "data": {
      "text/html": [
       "<div>\n",
       "<style scoped>\n",
       "    .dataframe tbody tr th:only-of-type {\n",
       "        vertical-align: middle;\n",
       "    }\n",
       "\n",
       "    .dataframe tbody tr th {\n",
       "        vertical-align: top;\n",
       "    }\n",
       "\n",
       "    .dataframe thead th {\n",
       "        text-align: right;\n",
       "    }\n",
       "</style>\n",
       "<table border=\"1\" class=\"dataframe\">\n",
       "  <thead>\n",
       "    <tr style=\"text-align: right;\">\n",
       "      <th></th>\n",
       "      <th>Year</th>\n",
       "      <th>MAKE</th>\n",
       "      <th>MODEL</th>\n",
       "      <th>VEHICLE CLASS</th>\n",
       "      <th>ENGINE SIZE</th>\n",
       "      <th>CYLINDERS</th>\n",
       "      <th>TRANSMISSION</th>\n",
       "      <th>FUEL</th>\n",
       "      <th>FUEL CONSUMPTION</th>\n",
       "      <th>COEMISSIONS</th>\n",
       "    </tr>\n",
       "  </thead>\n",
       "  <tbody>\n",
       "    <tr>\n",
       "      <th>0</th>\n",
       "      <td>2000</td>\n",
       "      <td>ACURA</td>\n",
       "      <td>1.6EL</td>\n",
       "      <td>COMPACT</td>\n",
       "      <td>1.6</td>\n",
       "      <td>4</td>\n",
       "      <td>A4</td>\n",
       "      <td>X</td>\n",
       "      <td>10.5</td>\n",
       "      <td>216</td>\n",
       "    </tr>\n",
       "    <tr>\n",
       "      <th>1</th>\n",
       "      <td>2000</td>\n",
       "      <td>ACURA</td>\n",
       "      <td>1.6EL</td>\n",
       "      <td>COMPACT</td>\n",
       "      <td>1.6</td>\n",
       "      <td>4</td>\n",
       "      <td>M5</td>\n",
       "      <td>X</td>\n",
       "      <td>9.8</td>\n",
       "      <td>205</td>\n",
       "    </tr>\n",
       "    <tr>\n",
       "      <th>2</th>\n",
       "      <td>2000</td>\n",
       "      <td>ACURA</td>\n",
       "      <td>3.2TL</td>\n",
       "      <td>MID-SIZE</td>\n",
       "      <td>3.2</td>\n",
       "      <td>6</td>\n",
       "      <td>AS5</td>\n",
       "      <td>Z</td>\n",
       "      <td>13.7</td>\n",
       "      <td>265</td>\n",
       "    </tr>\n",
       "    <tr>\n",
       "      <th>3</th>\n",
       "      <td>2000</td>\n",
       "      <td>ACURA</td>\n",
       "      <td>3.5RL</td>\n",
       "      <td>MID-SIZE</td>\n",
       "      <td>3.5</td>\n",
       "      <td>6</td>\n",
       "      <td>A4</td>\n",
       "      <td>Z</td>\n",
       "      <td>15.0</td>\n",
       "      <td>301</td>\n",
       "    </tr>\n",
       "    <tr>\n",
       "      <th>4</th>\n",
       "      <td>2000</td>\n",
       "      <td>ACURA</td>\n",
       "      <td>INTEGRA</td>\n",
       "      <td>SUBCOMPACT</td>\n",
       "      <td>1.8</td>\n",
       "      <td>4</td>\n",
       "      <td>A4</td>\n",
       "      <td>X</td>\n",
       "      <td>11.4</td>\n",
       "      <td>230</td>\n",
       "    </tr>\n",
       "    <tr>\n",
       "      <th>...</th>\n",
       "      <td>...</td>\n",
       "      <td>...</td>\n",
       "      <td>...</td>\n",
       "      <td>...</td>\n",
       "      <td>...</td>\n",
       "      <td>...</td>\n",
       "      <td>...</td>\n",
       "      <td>...</td>\n",
       "      <td>...</td>\n",
       "      <td>...</td>\n",
       "    </tr>\n",
       "    <tr>\n",
       "      <th>634</th>\n",
       "      <td>2000</td>\n",
       "      <td>VOLVO</td>\n",
       "      <td>V70 AWD TURBO</td>\n",
       "      <td>STATION WAGON - MID-SIZE</td>\n",
       "      <td>2.4</td>\n",
       "      <td>5</td>\n",
       "      <td>A4</td>\n",
       "      <td>Z</td>\n",
       "      <td>14.4</td>\n",
       "      <td>288</td>\n",
       "    </tr>\n",
       "    <tr>\n",
       "      <th>635</th>\n",
       "      <td>2000</td>\n",
       "      <td>VOLVO</td>\n",
       "      <td>V70 GLT TURBO</td>\n",
       "      <td>STATION WAGON - MID-SIZE</td>\n",
       "      <td>2.4</td>\n",
       "      <td>5</td>\n",
       "      <td>A4</td>\n",
       "      <td>Z</td>\n",
       "      <td>13.6</td>\n",
       "      <td>274</td>\n",
       "    </tr>\n",
       "    <tr>\n",
       "      <th>636</th>\n",
       "      <td>2000</td>\n",
       "      <td>VOLVO</td>\n",
       "      <td>V70 T5 TURBO</td>\n",
       "      <td>STATION WAGON - MID-SIZE</td>\n",
       "      <td>2.3</td>\n",
       "      <td>5</td>\n",
       "      <td>A4</td>\n",
       "      <td>Z</td>\n",
       "      <td>13.9</td>\n",
       "      <td>274</td>\n",
       "    </tr>\n",
       "    <tr>\n",
       "      <th>637</th>\n",
       "      <td>2000</td>\n",
       "      <td>VOLVO</td>\n",
       "      <td>V70 T5 TURBO</td>\n",
       "      <td>STATION WAGON - MID-SIZE</td>\n",
       "      <td>2.3</td>\n",
       "      <td>5</td>\n",
       "      <td>M5</td>\n",
       "      <td>Z</td>\n",
       "      <td>13.0</td>\n",
       "      <td>260</td>\n",
       "    </tr>\n",
       "    <tr>\n",
       "      <th>638</th>\n",
       "      <td>2000</td>\n",
       "      <td>VOLVO</td>\n",
       "      <td>V70R AWD TURBO</td>\n",
       "      <td>STATION WAGON - MID-SIZE</td>\n",
       "      <td>2.4</td>\n",
       "      <td>5</td>\n",
       "      <td>A5</td>\n",
       "      <td>Z</td>\n",
       "      <td>14.7</td>\n",
       "      <td>299</td>\n",
       "    </tr>\n",
       "  </tbody>\n",
       "</table>\n",
       "<p>639 rows × 10 columns</p>\n",
       "</div>"
      ],
      "text/plain": [
       "     Year   MAKE           MODEL             VEHICLE CLASS  ENGINE SIZE  \\\n",
       "0    2000  ACURA           1.6EL                   COMPACT          1.6   \n",
       "1    2000  ACURA           1.6EL                   COMPACT          1.6   \n",
       "2    2000  ACURA           3.2TL                  MID-SIZE          3.2   \n",
       "3    2000  ACURA           3.5RL                  MID-SIZE          3.5   \n",
       "4    2000  ACURA         INTEGRA                SUBCOMPACT          1.8   \n",
       "..    ...    ...             ...                       ...          ...   \n",
       "634  2000  VOLVO   V70 AWD TURBO  STATION WAGON - MID-SIZE          2.4   \n",
       "635  2000  VOLVO   V70 GLT TURBO  STATION WAGON - MID-SIZE          2.4   \n",
       "636  2000  VOLVO    V70 T5 TURBO  STATION WAGON - MID-SIZE          2.3   \n",
       "637  2000  VOLVO    V70 T5 TURBO  STATION WAGON - MID-SIZE          2.3   \n",
       "638  2000  VOLVO  V70R AWD TURBO  STATION WAGON - MID-SIZE          2.4   \n",
       "\n",
       "     CYLINDERS TRANSMISSION FUEL  FUEL CONSUMPTION  COEMISSIONS   \n",
       "0            4           A4    X              10.5           216  \n",
       "1            4           M5    X               9.8           205  \n",
       "2            6          AS5    Z              13.7           265  \n",
       "3            6           A4    Z              15.0           301  \n",
       "4            4           A4    X              11.4           230  \n",
       "..         ...          ...  ...               ...           ...  \n",
       "634          5           A4    Z              14.4           288  \n",
       "635          5           A4    Z              13.6           274  \n",
       "636          5           A4    Z              13.9           274  \n",
       "637          5           M5    Z              13.0           260  \n",
       "638          5           A5    Z              14.7           299  \n",
       "\n",
       "[639 rows x 10 columns]"
      ]
     },
     "execution_count": 2,
     "metadata": {},
     "output_type": "execute_result"
    }
   ],
   "source": [
    "df=pd.read_csv(\"FuelConsumption.csv\")\n",
    "df"
   ]
  },
  {
   "cell_type": "code",
   "execution_count": 3,
   "id": "2ae4acae",
   "metadata": {},
   "outputs": [
    {
     "data": {
      "text/html": [
       "<div>\n",
       "<style scoped>\n",
       "    .dataframe tbody tr th:only-of-type {\n",
       "        vertical-align: middle;\n",
       "    }\n",
       "\n",
       "    .dataframe tbody tr th {\n",
       "        vertical-align: top;\n",
       "    }\n",
       "\n",
       "    .dataframe thead th {\n",
       "        text-align: right;\n",
       "    }\n",
       "</style>\n",
       "<table border=\"1\" class=\"dataframe\">\n",
       "  <thead>\n",
       "    <tr style=\"text-align: right;\">\n",
       "      <th></th>\n",
       "      <th>Year</th>\n",
       "      <th>MAKE</th>\n",
       "      <th>MODEL</th>\n",
       "      <th>VEHICLE CLASS</th>\n",
       "      <th>ENGINE SIZE</th>\n",
       "      <th>CYLINDERS</th>\n",
       "      <th>TRANSMISSION</th>\n",
       "      <th>FUEL</th>\n",
       "      <th>FUEL CONSUMPTION</th>\n",
       "      <th>COEMISSIONS</th>\n",
       "    </tr>\n",
       "  </thead>\n",
       "  <tbody>\n",
       "    <tr>\n",
       "      <th>0</th>\n",
       "      <td>2000</td>\n",
       "      <td>ACURA</td>\n",
       "      <td>1.6EL</td>\n",
       "      <td>COMPACT</td>\n",
       "      <td>1.6</td>\n",
       "      <td>4</td>\n",
       "      <td>A4</td>\n",
       "      <td>X</td>\n",
       "      <td>10.5</td>\n",
       "      <td>216</td>\n",
       "    </tr>\n",
       "    <tr>\n",
       "      <th>1</th>\n",
       "      <td>2000</td>\n",
       "      <td>ACURA</td>\n",
       "      <td>1.6EL</td>\n",
       "      <td>COMPACT</td>\n",
       "      <td>1.6</td>\n",
       "      <td>4</td>\n",
       "      <td>M5</td>\n",
       "      <td>X</td>\n",
       "      <td>9.8</td>\n",
       "      <td>205</td>\n",
       "    </tr>\n",
       "    <tr>\n",
       "      <th>2</th>\n",
       "      <td>2000</td>\n",
       "      <td>ACURA</td>\n",
       "      <td>3.2TL</td>\n",
       "      <td>MID-SIZE</td>\n",
       "      <td>3.2</td>\n",
       "      <td>6</td>\n",
       "      <td>AS5</td>\n",
       "      <td>Z</td>\n",
       "      <td>13.7</td>\n",
       "      <td>265</td>\n",
       "    </tr>\n",
       "    <tr>\n",
       "      <th>3</th>\n",
       "      <td>2000</td>\n",
       "      <td>ACURA</td>\n",
       "      <td>3.5RL</td>\n",
       "      <td>MID-SIZE</td>\n",
       "      <td>3.5</td>\n",
       "      <td>6</td>\n",
       "      <td>A4</td>\n",
       "      <td>Z</td>\n",
       "      <td>15.0</td>\n",
       "      <td>301</td>\n",
       "    </tr>\n",
       "    <tr>\n",
       "      <th>4</th>\n",
       "      <td>2000</td>\n",
       "      <td>ACURA</td>\n",
       "      <td>INTEGRA</td>\n",
       "      <td>SUBCOMPACT</td>\n",
       "      <td>1.8</td>\n",
       "      <td>4</td>\n",
       "      <td>A4</td>\n",
       "      <td>X</td>\n",
       "      <td>11.4</td>\n",
       "      <td>230</td>\n",
       "    </tr>\n",
       "    <tr>\n",
       "      <th>...</th>\n",
       "      <td>...</td>\n",
       "      <td>...</td>\n",
       "      <td>...</td>\n",
       "      <td>...</td>\n",
       "      <td>...</td>\n",
       "      <td>...</td>\n",
       "      <td>...</td>\n",
       "      <td>...</td>\n",
       "      <td>...</td>\n",
       "      <td>...</td>\n",
       "    </tr>\n",
       "    <tr>\n",
       "      <th>634</th>\n",
       "      <td>2000</td>\n",
       "      <td>VOLVO</td>\n",
       "      <td>V70 AWD TURBO</td>\n",
       "      <td>STATION WAGON - MID-SIZE</td>\n",
       "      <td>2.4</td>\n",
       "      <td>5</td>\n",
       "      <td>A4</td>\n",
       "      <td>Z</td>\n",
       "      <td>14.4</td>\n",
       "      <td>288</td>\n",
       "    </tr>\n",
       "    <tr>\n",
       "      <th>635</th>\n",
       "      <td>2000</td>\n",
       "      <td>VOLVO</td>\n",
       "      <td>V70 GLT TURBO</td>\n",
       "      <td>STATION WAGON - MID-SIZE</td>\n",
       "      <td>2.4</td>\n",
       "      <td>5</td>\n",
       "      <td>A4</td>\n",
       "      <td>Z</td>\n",
       "      <td>13.6</td>\n",
       "      <td>274</td>\n",
       "    </tr>\n",
       "    <tr>\n",
       "      <th>636</th>\n",
       "      <td>2000</td>\n",
       "      <td>VOLVO</td>\n",
       "      <td>V70 T5 TURBO</td>\n",
       "      <td>STATION WAGON - MID-SIZE</td>\n",
       "      <td>2.3</td>\n",
       "      <td>5</td>\n",
       "      <td>A4</td>\n",
       "      <td>Z</td>\n",
       "      <td>13.9</td>\n",
       "      <td>274</td>\n",
       "    </tr>\n",
       "    <tr>\n",
       "      <th>637</th>\n",
       "      <td>2000</td>\n",
       "      <td>VOLVO</td>\n",
       "      <td>V70 T5 TURBO</td>\n",
       "      <td>STATION WAGON - MID-SIZE</td>\n",
       "      <td>2.3</td>\n",
       "      <td>5</td>\n",
       "      <td>M5</td>\n",
       "      <td>Z</td>\n",
       "      <td>13.0</td>\n",
       "      <td>260</td>\n",
       "    </tr>\n",
       "    <tr>\n",
       "      <th>638</th>\n",
       "      <td>2000</td>\n",
       "      <td>VOLVO</td>\n",
       "      <td>V70R AWD TURBO</td>\n",
       "      <td>STATION WAGON - MID-SIZE</td>\n",
       "      <td>2.4</td>\n",
       "      <td>5</td>\n",
       "      <td>A5</td>\n",
       "      <td>Z</td>\n",
       "      <td>14.7</td>\n",
       "      <td>299</td>\n",
       "    </tr>\n",
       "  </tbody>\n",
       "</table>\n",
       "<p>639 rows × 10 columns</p>\n",
       "</div>"
      ],
      "text/plain": [
       "     Year   MAKE           MODEL             VEHICLE CLASS  ENGINE SIZE  \\\n",
       "0    2000  ACURA           1.6EL                   COMPACT          1.6   \n",
       "1    2000  ACURA           1.6EL                   COMPACT          1.6   \n",
       "2    2000  ACURA           3.2TL                  MID-SIZE          3.2   \n",
       "3    2000  ACURA           3.5RL                  MID-SIZE          3.5   \n",
       "4    2000  ACURA         INTEGRA                SUBCOMPACT          1.8   \n",
       "..    ...    ...             ...                       ...          ...   \n",
       "634  2000  VOLVO   V70 AWD TURBO  STATION WAGON - MID-SIZE          2.4   \n",
       "635  2000  VOLVO   V70 GLT TURBO  STATION WAGON - MID-SIZE          2.4   \n",
       "636  2000  VOLVO    V70 T5 TURBO  STATION WAGON - MID-SIZE          2.3   \n",
       "637  2000  VOLVO    V70 T5 TURBO  STATION WAGON - MID-SIZE          2.3   \n",
       "638  2000  VOLVO  V70R AWD TURBO  STATION WAGON - MID-SIZE          2.4   \n",
       "\n",
       "     CYLINDERS TRANSMISSION FUEL  FUEL CONSUMPTION  COEMISSIONS   \n",
       "0            4           A4    X              10.5           216  \n",
       "1            4           M5    X               9.8           205  \n",
       "2            6          AS5    Z              13.7           265  \n",
       "3            6           A4    Z              15.0           301  \n",
       "4            4           A4    X              11.4           230  \n",
       "..         ...          ...  ...               ...           ...  \n",
       "634          5           A4    Z              14.4           288  \n",
       "635          5           A4    Z              13.6           274  \n",
       "636          5           A4    Z              13.9           274  \n",
       "637          5           M5    Z              13.0           260  \n",
       "638          5           A5    Z              14.7           299  \n",
       "\n",
       "[639 rows x 10 columns]"
      ]
     },
     "execution_count": 3,
     "metadata": {},
     "output_type": "execute_result"
    }
   ],
   "source": [
    "import numpy as np\n",
    "from matplotlib import pyplot as plt\n",
    "import pandas as pd\n",
    "from sklearn import linear_model\n",
    "df=pd.read_csv(\"FuelConsumption.csv\")\n",
    "df"
   ]
  },
  {
   "cell_type": "code",
   "execution_count": 4,
   "id": "aeee7442",
   "metadata": {},
   "outputs": [
    {
     "name": "stdout",
     "output_type": "stream",
     "text": [
      "<class 'pandas.core.frame.DataFrame'>\n",
      "RangeIndex: 639 entries, 0 to 638\n",
      "Data columns (total 10 columns):\n",
      " #   Column            Non-Null Count  Dtype  \n",
      "---  ------            --------------  -----  \n",
      " 0   Year              639 non-null    int64  \n",
      " 1   MAKE              639 non-null    object \n",
      " 2   MODEL             639 non-null    object \n",
      " 3   VEHICLE CLASS     639 non-null    object \n",
      " 4   ENGINE SIZE       639 non-null    float64\n",
      " 5   CYLINDERS         639 non-null    int64  \n",
      " 6   TRANSMISSION      639 non-null    object \n",
      " 7   FUEL              639 non-null    object \n",
      " 8   FUEL CONSUMPTION  639 non-null    float64\n",
      " 9   COEMISSIONS       639 non-null    int64  \n",
      "dtypes: float64(2), int64(3), object(5)\n",
      "memory usage: 50.1+ KB\n",
      "None\n",
      "\n",
      "\n",
      "         Year  ENGINE SIZE   CYLINDERS  FUEL CONSUMPTION  COEMISSIONS \n",
      "count   639.0   639.000000  639.000000        639.000000    639.000000\n",
      "mean   2000.0     3.265728    5.805947         14.713615    296.809077\n",
      "std       0.0     1.231012    1.625588          3.307044     65.504178\n",
      "min    2000.0     1.000000    3.000000          4.900000    104.000000\n",
      "25%    2000.0     2.200000    4.000000         12.500000    253.000000\n",
      "50%    2000.0     3.000000    6.000000         14.400000    288.000000\n",
      "75%    2000.0     4.300000    6.000000         16.600000    343.000000\n",
      "max    2000.0     8.000000   12.000000         30.200000    582.000000\n"
     ]
    }
   ],
   "source": [
    "print(df.info())\n",
    "print(\"\\n\")\n",
    "print(df.describe())     "
   ]
  },
  {
   "cell_type": "code",
   "execution_count": 5,
   "id": "7ad75a6e",
   "metadata": {},
   "outputs": [
    {
     "data": {
      "text/plain": [
       "Index(['Year', 'MAKE', 'MODEL', 'VEHICLE CLASS', 'ENGINE SIZE', 'CYLINDERS',\n",
       "       'TRANSMISSION', 'FUEL', 'FUEL CONSUMPTION', 'COEMISSIONS '],\n",
       "      dtype='object')"
      ]
     },
     "execution_count": 5,
     "metadata": {},
     "output_type": "execute_result"
    }
   ],
   "source": [
    "df.columns"
   ]
  },
  {
   "cell_type": "code",
   "execution_count": 6,
   "id": "fc986a51",
   "metadata": {},
   "outputs": [
    {
     "data": {
      "text/html": [
       "<div>\n",
       "<style scoped>\n",
       "    .dataframe tbody tr th:only-of-type {\n",
       "        vertical-align: middle;\n",
       "    }\n",
       "\n",
       "    .dataframe tbody tr th {\n",
       "        vertical-align: top;\n",
       "    }\n",
       "\n",
       "    .dataframe thead th {\n",
       "        text-align: right;\n",
       "    }\n",
       "</style>\n",
       "<table border=\"1\" class=\"dataframe\">\n",
       "  <thead>\n",
       "    <tr style=\"text-align: right;\">\n",
       "      <th></th>\n",
       "      <th>ENGINE SIZE</th>\n",
       "      <th>CYLINDERS</th>\n",
       "      <th>FUEL CONSUMPTION</th>\n",
       "      <th>COEMISSIONS</th>\n",
       "    </tr>\n",
       "  </thead>\n",
       "  <tbody>\n",
       "    <tr>\n",
       "      <th>0</th>\n",
       "      <td>1.6</td>\n",
       "      <td>4</td>\n",
       "      <td>10.5</td>\n",
       "      <td>216</td>\n",
       "    </tr>\n",
       "    <tr>\n",
       "      <th>1</th>\n",
       "      <td>1.6</td>\n",
       "      <td>4</td>\n",
       "      <td>9.8</td>\n",
       "      <td>205</td>\n",
       "    </tr>\n",
       "    <tr>\n",
       "      <th>2</th>\n",
       "      <td>3.2</td>\n",
       "      <td>6</td>\n",
       "      <td>13.7</td>\n",
       "      <td>265</td>\n",
       "    </tr>\n",
       "    <tr>\n",
       "      <th>3</th>\n",
       "      <td>3.5</td>\n",
       "      <td>6</td>\n",
       "      <td>15.0</td>\n",
       "      <td>301</td>\n",
       "    </tr>\n",
       "    <tr>\n",
       "      <th>4</th>\n",
       "      <td>1.8</td>\n",
       "      <td>4</td>\n",
       "      <td>11.4</td>\n",
       "      <td>230</td>\n",
       "    </tr>\n",
       "  </tbody>\n",
       "</table>\n",
       "</div>"
      ],
      "text/plain": [
       "   ENGINE SIZE  CYLINDERS  FUEL CONSUMPTION  COEMISSIONS \n",
       "0          1.6          4              10.5           216\n",
       "1          1.6          4               9.8           205\n",
       "2          3.2          6              13.7           265\n",
       "3          3.5          6              15.0           301\n",
       "4          1.8          4              11.4           230"
      ]
     },
     "execution_count": 6,
     "metadata": {},
     "output_type": "execute_result"
    }
   ],
   "source": [
    "df.columns\n",
    "cdf=df[['ENGINE SIZE','CYLINDERS','FUEL CONSUMPTION','COEMISSIONS ']]  ### Selected appended and DataFrame create\n",
    "cdf.head()"
   ]
  },
  {
   "cell_type": "code",
   "execution_count": 7,
   "id": "ca19817a",
   "metadata": {},
   "outputs": [
    {
     "data": {
      "image/png": "[encoded data removed]",
      "text/plain": [
       "<Figure size 640x480 with 4 Axes>"
      ]
     },
     "metadata": {},
     "output_type": "display_data"
    }
   ],
   "source": [
    "viz = cdf[['ENGINE SIZE','CYLINDERS','FUEL CONSUMPTION','COEMISSIONS ']]\n",
    "viz.hist()\n",
    "plt.show()"
   ]
  },
  {
   "cell_type": "code",
   "execution_count": 8,
   "id": "1e499516",
   "metadata": {},
   "outputs": [
    {
     "data": {
      "image/png": "[encoded data removed]",
      "text/plain": [
       "<Figure size 640x480 with 1 Axes>"
      ]
     },
     "metadata": {},
     "output_type": "display_data"
    },
    {
     "data": {
      "image/png": "[encoded data removed]",
      "text/plain": [
       "<Figure size 640x480 with 1 Axes>"
      ]
     },
     "metadata": {},
     "output_type": "display_data"
    },
    {
     "data": {
      "image/png": "[encoded data removed]",
      "text/plain": [
       "<Figure size 640x480 with 1 Axes>"
      ]
     },
     "metadata": {},
     "output_type": "display_data"
    },
    {
     "data": {
      "image/png": "[encoded data removed]",
      "text/plain": [
       "<Figure size 640x480 with 1 Axes>"
      ]
     },
     "metadata": {},
     "output_type": "display_data"
    }
   ],
   "source": [
    "for i in cdf[['ENGINE SIZE','CYLINDERS','FUEL CONSUMPTION','COEMISSIONS ']]:\n",
    "    plt.scatter(cdf[i],cdf['COEMISSIONS '],color='blue')\n",
    "    plt.xlabel(i)\n",
    "    plt.ylabel(\"Emission\")\n",
    "    plt.show()"
   ]
  },
  {
   "cell_type": "code",
   "execution_count": 9,
   "id": "83511ff2",
   "metadata": {},
   "outputs": [],
   "source": [
    "mask=np.random.rand(len(df)) < 0.80                   ### Uniform Random Number\n",
    "train=cdf[mask]\n",
    "test=cdf[~mask]"
   ]
  },
  {
   "cell_type": "code",
   "execution_count": 10,
   "id": "51ac4e28",
   "metadata": {},
   "outputs": [
    {
     "data": {
      "image/png": "[encoded data removed]",
      "text/plain": [
       "<Figure size 640x480 with 1 Axes>"
      ]
     },
     "metadata": {},
     "output_type": "display_data"
    },
    {
     "data": {
      "image/png": "[encoded data removed]",
      "text/plain": [
       "<Figure size 640x480 with 1 Axes>"
      ]
     },
     "metadata": {},
     "output_type": "display_data"
    },
    {
     "data": {
      "image/png": "[encoded data removed]",
      "text/plain": [
       "<Figure size 640x480 with 1 Axes>"
      ]
     },
     "metadata": {},
     "output_type": "display_data"
    },
    {
     "data": {
      "image/png": "[encoded data removed]",
      "text/plain": [
       "<Figure size 640x480 with 1 Axes>"
      ]
     },
     "metadata": {},
     "output_type": "display_data"
    }
   ],
   "source": [
    "for i in train[['ENGINE SIZE','CYLINDERS','FUEL CONSUMPTION','COEMISSIONS ']]:\n",
    "    plt.scatter(train[i],train['COEMISSIONS '],color='blue')\n",
    "    plt.xlabel(i)\n",
    "    plt.ylabel(\"Emission\")\n",
    "    plt.show()"
   ]
  },
  {
   "cell_type": "code",
   "execution_count": 11,
   "id": "a20f5a10",
   "metadata": {},
   "outputs": [
    {
     "ename": "SyntaxError",
     "evalue": "invalid non-printable character U+200B (960032113.py, line 30)",
     "output_type": "error",
     "traceback": [
      "\u001b[1;36m  Cell \u001b[1;32mIn[11], line 30\u001b[1;36m\u001b[0m\n\u001b[1;33m    ​\u001b[0m\n\u001b[1;37m    ^\u001b[0m\n\u001b[1;31mSyntaxError\u001b[0m\u001b[1;31m:\u001b[0m invalid non-printable character U+200B\n"
     ]
    }
   ],
   "source": [
    "coefficient=[]\n",
    "intercept=[]\n",
    "regress_model={}\n",
    "for i in train[['ENGINE SIZE','CYLINDERS','FUEL CONSUMPTION','COEMISSIONS ']]:\n",
    "    regr=linear_model.LinearRegression()\n",
    "    train_x = np.asanyarray(train[[i]])\n",
    "    train_y=  np.asanyarray(train[['COEMISSIONS ']])\n",
    "    regr.fit(train_x, train_y)\n",
    "    regress_model[i]=regr\n",
    "    print(\"Relation between {} & {}\".fRelation between ENGINE SIZE & 'COEMISSIONS'\n",
    "Coefficients:  [[44.54363976]]\n",
    "Intercept:  [151.07551342]\n",
    "\n",
    "\n",
    "Relation between CYLINDERS & 'COEMISSIONS'\n",
    "Coefficients:  [[31.36493959]]\n",
    "Intercept:  [114.77712498]\n",
    "\n",
    "\n",
    "Relation between FUEL CONSUMPTION & 'COEMISSIONS'\n",
    "Coefficients:  [[19.60231012]]\n",
    "Intercept:  [8.3578076]\n",
    "\n",
    "\n",
    "Relation between COEMISSIONS  & 'COEMISSIONS'\n",
    "Coefficients:  [[1.]]\n",
    "Intercept:  [0.]\n",
    "\n",
    "\n",
    "​\n",
    "ormat(i,\"'COEMISSIONS'\"))\n",
    "    print ('Coefficients: ', regr.coef_)\n",
    "    print ('Intercept: ',regr.intercept_)\n",
    "    coefficient.append(regr.coef_)\n",
    "    intercept.append(regr.intercept_)\n",
    "    \n",
    "    print('\\n')"
   ]
  },
  {
   "cell_type": "code",
   "execution_count": null,
   "id": "2c958720",
   "metadata": {},
   "outputs": [],
   "source": [
    "j=0\n",
    "for i in train[['ENGINE SIZE','CYLINDERS','FUEL CONSUMPTION','COEMISSIONS ']]:\n",
    "    plt.scatter(train[i], train['COEMISSIONS '],  color='green')\n",
    "    x=train[i].values\n",
    "    print(x.shape)\n",
    "    y=coefficient[j][0]*x + intercept[j]\n",
    "    print(y.shape)\n",
    "    l=len(y)\n",
    "    y=np.reshape(y,(l,))\n",
    "    plt.plot(x, y, '-r')\n",
    "    plt.xlabel(i)\n",
    "    plt.ylabel(\"Emission\")\n",
    "    plt.show()\n",
    "    j=j+1"
   ]
  },
  {
   "cell_type": "code",
   "execution_count": null,
   "id": "c6fa909f",
   "metadata": {},
   "outputs": [],
   "source": [
    "from sklearn.metrics import r2_score\n",
    "\n",
    "for i in train[['ENGINE SIZE','CYLINDERS','FUEL CONSUMPTION','COEMISSIONS ']]:\n",
    "    test_x = np.asanyarray(test[[i]])\n",
    "    test_y = np.asanyarray(test[['COEMISSIONS ']])\n",
    "    test_y_ = regress_model[i].predict(test_x)\n",
    "    print(\"Fitting Error between {} & {}\".format(i,\"'CO2EMISSIONS'\"))\n",
    "    print(\"Mean absolute error: %.2f\" % np.mean(np.absolute(test_y_ - test_y)))\n",
    "    print(\"Residual sum of squares (MSE): %.2f\" % np.mean((test_y_ - test_y) ** 2))\n",
    "    print(\"R2-score: %.2f\" % r2_score(test_y_ , test_y) )\n",
    "    print('\\n')"
   ]
  },
  {
   "cell_type": "markdown",
   "id": "4d730631",
   "metadata": {},
   "source": [
    "# Linear Regression Part 2"
   ]
  },
  {
   "cell_type": "code",
   "execution_count": null,
   "id": "2d9a4876",
   "metadata": {},
   "outputs": [],
   "source": [
    "import pandas as pd\n",
    "import numpy as np\n",
    "import matplotlib.pyplot as plt\n",
    "import seaborn as sns\n",
    "\n",
    "from sklearn.preprocessing import StandardScaler,MinMaxScaler\n",
    "from sklearn.model_selection import train_test_split\n",
    "from sklearn.feature_selection import RFE\n",
    "from sklearn.model_selection import GridSearchCV\n",
    "from sklearn.linear_model import LinearRegression,Ridge,Lasso\n",
    "from sklearn.metrics import r2_score,mean_squared_error\n",
    "from sklearn import metrics"
   ]
  },
  {
   "cell_type": "code",
   "execution_count": null,
   "id": "076ab3a8",
   "metadata": {},
   "outputs": [],
   "source": [
    "h_data = pd.read_csv(r\"train.csv\")\n",
    "h_data.head()"
   ]
  },
  {
   "cell_type": "code",
   "execution_count": null,
   "id": "d138e41d",
   "metadata": {},
   "outputs": [],
   "source": [
    "h_data.describe(include='all')"
   ]
  },
  {
   "cell_type": "code",
   "execution_count": null,
   "id": "2c953e4f",
   "metadata": {},
   "outputs": [],
   "source": [
    "h_data.shape"
   ]
  },
  {
   "cell_type": "code",
   "execution_count": null,
   "id": "956c6cef",
   "metadata": {},
   "outputs": [],
   "source": [
    "h_data.info()"
   ]
  },
  {
   "cell_type": "markdown",
   "id": "de7785a4",
   "metadata": {},
   "source": [
    "# Checking the null Values"
   ]
  },
  {
   "cell_type": "code",
   "execution_count": null,
   "id": "7afd4f78",
   "metadata": {},
   "outputs": [],
   "source": [
    "h_data.isnull().sum()"
   ]
  },
  {
   "cell_type": "code",
   "execution_count": null,
   "id": "89379861",
   "metadata": {},
   "outputs": [],
   "source": [
    "Checking if there are columns with unique Value"
   ]
  },
  {
   "cell_type": "code",
   "execution_count": null,
   "id": "9679e10b",
   "metadata": {},
   "outputs": [],
   "source": [
    "h_data.nunique()"
   ]
  },
  {
   "cell_type": "markdown",
   "id": "750f89b7",
   "metadata": {},
   "source": [
    "Checking the Value counts"
   ]
  },
  {
   "cell_type": "code",
   "execution_count": null,
   "id": "fb616cf2",
   "metadata": {},
   "outputs": [],
   "source": [
    "h_data.PoolQC.value_counts()"
   ]
  },
  {
   "cell_type": "code",
   "execution_count": null,
   "id": "9ca9b07d",
   "metadata": {},
   "outputs": [],
   "source": [
    "h_data.Alley.value_counts()"
   ]
  },
  {
   "cell_type": "code",
   "execution_count": null,
   "id": "5d4c9876",
   "metadata": {},
   "outputs": [],
   "source": [
    "h_data.Street.value_counts()"
   ]
  },
  {
   "cell_type": "code",
   "execution_count": null,
   "id": "a3859d20",
   "metadata": {},
   "outputs": [],
   "source": [
    "h_data.Utilities.value_counts()"
   ]
  },
  {
   "cell_type": "markdown",
   "id": "fd44d04e",
   "metadata": {},
   "source": [
    "Data Preparation (Encoding Categorical Variables, Handling Null Values)\n",
    "Imputing Null Values"
   ]
  },
  {
   "cell_type": "code",
   "execution_count": null,
   "id": "32026f68",
   "metadata": {},
   "outputs": [],
   "source": [
    "df_missing=pd.DataFrame((round(100*(h_data.isnull().sum()/len(h_data.index)), 2)), columns=['missing'])\n",
    "df_missing.sort_values(by=['missing'], ascending=False).head(20)"
   ]
  },
  {
   "cell_type": "markdown",
   "id": "51cefa42",
   "metadata": {},
   "source": [
    "Treating the NaN Values"
   ]
  },
  {
   "cell_type": "code",
   "execution_count": null,
   "id": "cffc6e7b",
   "metadata": {},
   "outputs": [],
   "source": [
    "h_data['PoolQC'] = h_data['PoolQC'].fillna('NoPool')\n",
    "h_data['MiscFeature'] = h_data['MiscFeature'].fillna('None')\n",
    "h_data['Alley'] = h_data['Alley'].fillna('NoAlleyAccess')\n",
    "h_data['Fence'] = h_data['Fence'].fillna('No_Fence')\n",
    "h_data['FireplaceQu'] = h_data['FireplaceQu'].fillna('No_Fireplace')\n",
    "h_data['GarageYrBlt'] = h_data['GarageYrBlt'].fillna(0)\n",
    "h_data['MasVnrType'] = h_data['MasVnrType'].fillna('None')\n",
    "h_data['MasVnrArea'] = h_data['MasVnrArea'].fillna(0)\n",
    "h_data['MasVnrArea'] = h_data['MasVnrArea'].fillna(0)\n",
    "h_data['Electrical'] = h_data['Electrical'].fillna(\"Other\")"
   ]
  },
  {
   "cell_type": "code",
   "execution_count": null,
   "id": "28482866",
   "metadata": {},
   "outputs": [],
   "source": [
    "h_data.drop(\"LotFrontage\",axis = 1, inplace=True)"
   ]
  },
  {
   "cell_type": "code",
   "execution_count": null,
   "id": "523ee187",
   "metadata": {},
   "outputs": [],
   "source": [
    "for col in ('BsmtFinType1', 'BsmtFinType2', 'BsmtExposure', 'BsmtQual','BsmtCond'):\n",
    "    h_data[col] = h_data[col].fillna('No_Basement')"
   ]
  },
  {
   "cell_type": "code",
   "execution_count": null,
   "id": "0afd73a3",
   "metadata": {},
   "outputs": [],
   "source": [
    "for col in ('GarageType', 'GarageFinish', 'GarageQual', 'GarageCond'):\n",
    "    h_data[col] = h_data[col].fillna('No_Garage')"
   ]
  },
  {
   "cell_type": "code",
   "execution_count": null,
   "id": "8674e1d8",
   "metadata": {},
   "outputs": [],
   "source": [
    "h_data.info()"
   ]
  },
  {
   "cell_type": "code",
   "execution_count": null,
   "id": "a7e0737a",
   "metadata": {},
   "outputs": [],
   "source": [
    "h_data.info()"
   ]
  },
  {
   "cell_type": "code",
   "execution_count": null,
   "id": "9ff315ca",
   "metadata": {},
   "outputs": [],
   "source": [
    "h_data['GarageYrBlt'] = h_data['GarageYrBlt'].astype(int)"
   ]
  },
  {
   "cell_type": "markdown",
   "id": "caa8fbd5",
   "metadata": {},
   "source": [
    "# Performing EDA\n",
    "Univariate and Bivariate Analysis"
   ]
  },
  {
   "cell_type": "code",
   "execution_count": null,
   "id": "9017148b",
   "metadata": {},
   "outputs": [],
   "source": [
    "plt.scatter(h_data.MasVnrArea,h_data.SalePrice)"
   ]
  },
  {
   "cell_type": "code",
   "execution_count": null,
   "id": "f31638db",
   "metadata": {},
   "outputs": [],
   "source": [
    "sns.distplot(h_data['SalePrice'],color='green')"
   ]
  },
  {
   "cell_type": "code",
   "execution_count": null,
   "id": "d44c66d4",
   "metadata": {},
   "outputs": [],
   "source": [
    "print(\"Skewness: %f\" % h_data['SalePrice'].skew())\n",
    "print(\"Kurtosis: %f\" % h_data['SalePrice'].kurt())"
   ]
  },
  {
   "cell_type": "markdown",
   "id": "e6b61e51",
   "metadata": {},
   "source": [
    "# Checking basement Counts"
   ]
  },
  {
   "cell_type": "code",
   "execution_count": null,
   "id": "9ca66482",
   "metadata": {},
   "outputs": [],
   "source": [
    "sns.countplot(x='BsmtCond', data= h_data)\n",
    "plt.title('Basement Condition')"
   ]
  },
  {
   "cell_type": "code",
   "execution_count": null,
   "id": "6fab1dc9",
   "metadata": {},
   "outputs": [],
   "source": [
    "sns.countplot(x='OverallCond', data= h_data).tick_params(axis='x', rotation = 90)\n",
    "plt.title('Overall Condition')\n"
   ]
  },
  {
   "cell_type": "code",
   "execution_count": null,
   "id": "89467b99",
   "metadata": {},
   "outputs": [],
   "source": [
    "data = pd.concat([h_data['SalePrice'], h_data['GrLivArea']], axis=1)\n",
    "data.plot.scatter(x='GrLivArea', y='SalePrice', ylim=(0,800000));\n",
    "plt.title('Gr LivArea vs SalePrice')\n"
   ]
  },
  {
   "cell_type": "markdown",
   "id": "029dd1ef",
   "metadata": {},
   "source": [
    "# Checking the Outliers"
   ]
  },
  {
   "cell_type": "code",
   "execution_count": null,
   "id": "7d765075",
   "metadata": {},
   "outputs": [],
   "source": [
    "sns.boxplot(x='SalePrice', data=h_data)"
   ]
  },
  {
   "cell_type": "markdown",
   "id": "10fabfea",
   "metadata": {},
   "source": [
    "# Check Pairwise Scatterplot"
   ]
  },
  {
   "cell_type": "code",
   "execution_count": null,
   "id": "1581bd01",
   "metadata": {},
   "outputs": [],
   "source": [
    "sns.set()\n",
    "cols = ['SalePrice', 'OverallQual', 'GrLivArea', 'GarageCars', 'TotalBsmtSF', 'FullBath', 'YearBuilt']\n",
    "sns.pairplot(h_data[cols], size = 2.5)\n",
    "plt.show();"
   ]
  },
  {
   "cell_type": "markdown",
   "id": "18f510ab",
   "metadata": {},
   "source": [
    "# Checking Correlstion Matrix"
   ]
  },
  {
   "cell_type": "code",
   "execution_count": null,
   "id": "513fb28c",
   "metadata": {},
   "outputs": [],
   "source": [
    "corrmat = h_data.corr()\n",
    "f, ax = plt.subplots(figsize=(12, 9))\n",
    "sns.heatmap(corrmat, vmax=.8, square=True);\n",
    "plt.title(\"Checking Correlation matrix \")"
   ]
  },
  {
   "cell_type": "code",
   "execution_count": null,
   "id": "7728dcc0",
   "metadata": {},
   "outputs": [],
   "source": [
    "import matplotlib.pyplot as plt\n",
    "import seaborn as sns\n",
    "\n",
    "corrmat = h_data.corr()\n",
    "f, ax = plt.subplots(figsize=(12, 9))\n",
    "sns.heatmap(corrmat, vmax=.8, square=True)\n",
    "plt.title(\"Checking Correlation matrix\")\n",
    "plt.show()"
   ]
  },
  {
   "cell_type": "code",
   "execution_count": null,
   "id": "c30280f0",
   "metadata": {},
   "outputs": [],
   "source": [
    "numeric_data = h_data.select_dtypes(include=[np.number])\n",
    "\n",
    "\n",
    "corrmat = numeric_data.corr()\n",
    "\n",
    "\n",
    "f, ax = plt.subplots(figsize=(12, 9))\n",
    "sns.heatmap(corrmat, vmax=.8, square=True)\n",
    "plt.title(\"Checking Correlation matrix \")\n",
    "plt.show()"
   ]
  },
  {
   "cell_type": "code",
   "execution_count": null,
   "id": "43466576",
   "metadata": {},
   "outputs": [],
   "source": [
    "plt.figure(figsize=(11,6))\n",
    "sns.distplot(np.log(h_data[\"SalePrice\"]))"
   ]
  },
  {
   "cell_type": "code",
   "execution_count": null,
   "id": "054ec411",
   "metadata": {},
   "outputs": [],
   "source": [
    "numeric_data = h_data.select_dtypes(include = ['float64','int64'])\n",
    "numeric_data.columns"
   ]
  },
  {
   "cell_type": "code",
   "execution_count": null,
   "id": "209865a0",
   "metadata": {},
   "outputs": [],
   "source": [
    "h_data['Street'] = h_data['Street'].apply(lambda x: 1 if x == 'Pave' else 0 )\n",
    "\n",
    "h_data['CentralAir'] = h_data['CentralAir'].apply(lambda x : 1 if x == 'Y' else 0)\n",
    "                                                  \n",
    "h_data['PavedDrive'] = h_data['PavedDrive'].apply(lambda x : 1 if x == 'Y' else 0)  "
   ]
  },
  {
   "cell_type": "code",
   "execution_count": null,
   "id": "d549870d",
   "metadata": {},
   "outputs": [],
   "source": [
    "cat_values = h_data.select_dtypes(include=['object'])\n",
    "cat_values.head()"
   ]
  },
  {
   "cell_type": "code",
   "execution_count": null,
   "id": "66a13c4c",
   "metadata": {},
   "outputs": [],
   "source": [
    "data_dummies = pd.get_dummies(cat_values, drop_first=True)\n",
    "data_dummies.head()"
   ]
  },
  {
   "cell_type": "code",
   "execution_count": null,
   "id": "41752c81",
   "metadata": {},
   "outputs": [],
   "source": []
  }
 ],
 "metadata": {
  "kernelspec": {
   "display_name": "Python 3 (ipykernel)",
   "language": "python",
   "name": "python3"
  },
  "language_info": {
   "codemirror_mode": {
    "name": "ipython",
    "version": 3
   },
   "file_extension": ".py",
   "mimetype": "text/x-python",
   "name": "python",
   "nbconvert_exporter": "python",
   "pygments_lexer": "ipython3",
   "version": "3.11.5"
  }
 },
 "nbformat": 4,
 "nbformat_minor": 5
}
